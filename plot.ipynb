{
 "cells": [
  {
   "cell_type": "code",
   "execution_count": null,
   "metadata": {},
   "outputs": [],
   "source": [
    "import numpy as np\n",
    "import pandas as pd\n",
    "import matplotlib.pyplot as plt\n",
    "import warnings\n",
    "warnings.filterwarnings(\"ignore\")\n",
    "import glob"
   ]
  },
  {
   "cell_type": "code",
   "execution_count": null,
   "metadata": {},
   "outputs": [],
   "source": [
    "def read_label():\n",
    "    label = {}\n",
    "    for i in range(1, 7):\n",
    "        hi = 'low_freq/house_{}/labels.dat'.format(i)\n",
    "        label[i] = {}\n",
    "        with open(hi) as f:\n",
    "            for line in f:\n",
    "                splitted_line = line.split(' ')\n",
    "                label[i][int(splitted_line[0])] = splitted_line[1].strip() + '_' + splitted_line[0]\n",
    "    return label\n",
    "\n",
    "labels = read_label()\n",
    "for i in range(1, 3):"
   ]
  },
  {
   "cell_type": "code",
   "execution_count": null,
   "metadata": {},
   "outputs": [],
   "source": [
    "def read_merge_data(house):\n",
    "    path = 'low_freq/house_{}/'.format(house)\n",
    "    file = path + 'channel_1.dat'\n",
    "    df = pd.read_table(file, sep=' ', names=['unix_time', labels[house][1]],\n",
    "                       dtype={'unix_time': 'int64', labels[house][1]: 'float64'})\n",
    "\n",
    "    num_apps = len(glob.glob(path + 'channel*'))\n",
    "    for i in range(2, num_apps + 1):\n",
    "        file = path + 'channel_{}.dat'.format(i)\n",
    "        data = pd.read_table(file, sep=' ', names=['unix_time', labels[house][i]],\n",
    "                             dtype={'unix_time': 'int64', labels[house][i]: 'float64'})\n",
    "        df = pd.merge(df, data, how='inner', on='unix_time')\n",
    "    df['timestamp'] = df['unix_time'].astype(\"datetime64[s]\")\n",
    "    df = df.set_index(df['timestamp'].values)\n",
    "    df.drop(['unix_time', 'timestamp'], axis=1, inplace=True)\n",
    "    return df\n",
    "\n",
    "\n",
    "df = {}\n",
    "for i in range(1, 3):\n",
    "    df[i] = read_merge_data(i)\n",
    "\n",
    "for i in range(1, 3):\n",
    "    print('House {} data has shape: '.format(i), df[i].shape)\n",
    "    print(df[i].tail(3))\n",
    "\n",
    "dates = {}\n",
    "for i in range(1, 3):\n",
    "    dates[i] = [str(time)[:10] for time in df[i].index.values]\n",
    "    dates[i] = sorted(list(set(dates[i])))\n",
    "    print('House {0} data contain {1} days from {2} to {3}.'.format(i, len(dates[i]), dates[i][0], dates[i][-1]))\n",
    "    print(dates[i], '\\n')"
   ]
  },
  {
   "cell_type": "code",
   "execution_count": null,
   "metadata": {},
   "outputs": [],
   "source": [
    "def plot_df(df, title):\n",
    "    apps = df.columns.values\n",
    "    num_apps = len(apps)\n",
    "    fig, axes = plt.subplots((num_apps+1)//2,2, figsize=(24, num_apps*2) )\n",
    "    for i, key in enumerate(apps):\n",
    "        axes.flat[i].plot(df[key], alpha = 0.6)\n",
    "        axes.flat[i].set_title(key, fontsize = '15')\n",
    "    plt.suptitle(title, fontsize = '30')\n",
    "    fig.tight_layout()\n",
    "    fig.subplots_adjust(top=0.95)"
   ]
  },
  {
   "cell_type": "code",
   "execution_count": null,
   "metadata": {},
   "outputs": [],
   "source": [
    "def plot_each_app(df, dates, predict, y_test, title, look_back = 0):\n",
    "    num_date = len(dates)\n",
    "    fig, axes = plt.subplots(num_date,1,figsize=(24, num_date*5) )\n",
    "    plt.suptitle(title, fontsize = '25')\n",
    "    fig.tight_layout()\n",
    "    fig.subplots_adjust(top=0.95)\n",
    "    for i in range(num_date):\n",
    "        if i == 0: l = 0\n",
    "        ind = df.ix[dates[i]].index[look_back:]\n",
    "        axes.flat[i].plot(ind, y_test[l:l+len(ind)], color = 'blue', alpha = 0.6, label = 'True value')\n",
    "        axes.flat[i].plot(ind, predict[l:l+len(ind)], color = 'red', alpha = 0.6, label = 'Predicted value')\n",
    "        axes.flat[i].legend()\n",
    "        l = len(ind)"
   ]
  },
  {
   "cell_type": "code",
   "execution_count": null,
   "metadata": {},
   "outputs": [],
   "source": [
    "def mse_loss(y_predict, y):\n",
    "    return np.mean(np.square(y_predict - y))\n",
    "def mae_loss(y_predict, y):\n",
    "    return np.mean(np.abs(y_predict - y))"
   ]
  },
  {
   "cell_type": "code",
   "execution_count": 3,
   "metadata": {},
   "outputs": [
    {
     "ename": "ModuleNotFoundError",
     "evalue": "No module named 'keras'",
     "traceback": [
      "\u001b[1;31m---------------------------------------------------------------------------\u001b[0m",
      "\u001b[1;31mModuleNotFoundError\u001b[0m                       Traceback (most recent call last)",
      "\u001b[1;32m<ipython-input-3-adae4d5b15a5>\u001b[0m in \u001b[0;36m<module>\u001b[1;34m()\u001b[0m\n\u001b[1;32m----> 1\u001b[1;33m \u001b[1;32mfrom\u001b[0m \u001b[0mkeras\u001b[0m\u001b[1;33m.\u001b[0m\u001b[0mlayers\u001b[0m\u001b[1;33m.\u001b[0m\u001b[0mcore\u001b[0m \u001b[1;32mimport\u001b[0m \u001b[0mDense\u001b[0m\u001b[1;33m,\u001b[0m \u001b[0mActivation\u001b[0m\u001b[1;33m,\u001b[0m \u001b[0mDropout\u001b[0m\u001b[1;33m\u001b[0m\u001b[0m\n\u001b[0m\u001b[0;32m      2\u001b[0m \u001b[1;32mfrom\u001b[0m \u001b[0mkeras\u001b[0m\u001b[1;33m.\u001b[0m\u001b[0mmodels\u001b[0m \u001b[1;32mimport\u001b[0m \u001b[0mSequential\u001b[0m\u001b[1;33m\u001b[0m\u001b[0m\n\u001b[0;32m      3\u001b[0m \u001b[1;32mfrom\u001b[0m \u001b[0mkeras\u001b[0m\u001b[1;33m.\u001b[0m\u001b[0mcallbacks\u001b[0m \u001b[1;32mimport\u001b[0m \u001b[0mModelCheckpoint\u001b[0m\u001b[1;33m\u001b[0m\u001b[0m\n\u001b[0;32m      4\u001b[0m \u001b[1;32mfrom\u001b[0m \u001b[0mkeras\u001b[0m\u001b[1;33m.\u001b[0m\u001b[0mmodels\u001b[0m \u001b[1;32mimport\u001b[0m \u001b[0mload_model\u001b[0m\u001b[1;33m\u001b[0m\u001b[0m\n\u001b[0;32m      5\u001b[0m \u001b[1;32mfrom\u001b[0m \u001b[0mkeras\u001b[0m\u001b[1;33m.\u001b[0m\u001b[0moptimizers\u001b[0m \u001b[1;32mimport\u001b[0m \u001b[0mAdam\u001b[0m\u001b[1;33m\u001b[0m\u001b[0m\n",
      "\u001b[1;31mModuleNotFoundError\u001b[0m: No module named 'keras'"
     ],
     "output_type": "error"
    }
   ],
   "source": [
    "from keras.layers.core import Dense, Activation, Dropout\n",
    "from keras.models import Sequential\n",
    "from keras.callbacks import ModelCheckpoint\n",
    "from keras.models import load_model\n",
    "from keras.optimizers import Adam"
   ]
  },
  {
   "cell_type": "code",
   "execution_count": null,
   "metadata": {},
   "outputs": [],
   "source": [
    "def process_data(df, dates, x_features, y_features, look_back = 50):\n",
    "    i = 0\n",
    "    for date in dates:\n",
    "        print(dates)\n",
    "        data = df.ix[date]\n",
    "        len_data = data.shape[0]\n",
    "        x = np.array([data[x_features].values[i:i+look_back]\n",
    "                      for i in range(len_data - look_back) ]).reshape(-1,look_back, 2)\n",
    "        y = data[y_features].values[look_back:,:]\n",
    "        if i == 0:\n",
    "            X = x\n",
    "            Y = y\n",
    "        else:\n",
    "            X = np.append(x, x, axis=0)\n",
    "            Y = np.append(y, y, axis=0)\n",
    "        i += 1\n",
    "    return X,Y"
   ]
  },
  {
   "cell_type": "code",
   "execution_count": null,
   "metadata": {},
   "outputs": [],
   "source": [
    "def build_fc_model(layers):\n",
    "    fc_model = Sequential()\n",
    "    for i in range(len(layers)-1):\n",
    "        fc_model.add( Dense(input_dim=layers[i], output_dim= layers[i+1]) )#, W_regularizer=l2(0.1)) )\n",
    "        fc_model.add( Dropout(0.5) )\n",
    "        if i < (len(layers) - 2):\n",
    "            fc_model.add( Activation('relu') )\n",
    "    fc_model.summary()\n",
    "    return fc_model"
   ]
  },
  {
   "cell_type": "code",
   "execution_count": null,
   "metadata": {},
   "outputs": [],
   "source": [
    "fc_model_1 = build_fc_model([2, 256, 512, 1024, 1536, 2048, 1])\n",
    "\n",
    "X_train, y_train = process_data(df[1], dates[1][:17], ['mains_1','mains_2'], df[1].columns.values[2:])\n",
    "X_test, y_test = process_data(df[1], dates[1][17:], ['mains_1','mains_2'], df[1].columns.values[2:])\n",
    "\n",
    "fc_model = build_fc_model([100, 256, 512, 1024, 1])\n",
    "\n",
    "X_train_fc = X_train.reshape(-1, 100)\n",
    "y_train_fc = y_train[:,2]\n",
    "\n",
    "adam = Adam(lr = 1e-5)\n",
    "fc_model.compile(loss='mean_squared_error', optimizer=adam)\n",
    "#start = datetime.time()\n",
    "checkpointer = ModelCheckpoint(filepath=\"./fc_refrig_h1.hdf5\", verbose=0, save_best_only=True)\n",
    "hist_fc2 = fc_model.fit( X_train_fc, y_train_fc,\n",
    "                    batch_size=512, verbose=1, nb_epoch= 200,\n",
    "                    validation_split=0.33, callbacks=[checkpointer])\n",
    "\n",
    "\n",
    "fc_model = load_model('fc_refrig_h1.hdf5')\n",
    "pred_fc = fc_model.predict(X_test.reshape(-1, 100)).reshape(-1)\n",
    "\n",
    "X_2, y_2 = process_data(df[2], dates[2], ['mains_2','mains_1'], ['refrigerator_9'])\n",
    "X_2_fc = X_2.reshape(-1, 100)\n",
    "y_2 = y_2.reshape(-1)\n",
    "#print('Process data time: ', time.time() - start)\n",
    "print(X_2_fc.shape, y_2.shape)\n",
    "\n",
    "pred_fc_50_h2 = fc_model.predict(X_2_fc).reshape(-1)\n",
    "mse_loss_fc_50_2 = mse_loss(pred_fc_50_h2, y_2)\n",
    "mae_loss_fc_50_2 = mae_loss(pred_fc_50_h2, y_2)\n",
    "print('Mean square error on test set: ', mse_loss_fc_50_2)\n",
    "print('Mean absolute error on the test set: ', mae_loss_fc_50_2)"
   ]
  },
  {
   "cell_type": "code",
   "execution_count": null,
   "metadata": {},
   "outputs": [],
   "source": [
    "plot_each_app(df[2], dates[2], pred_fc_50_h2, y_2, 'FC model look back 50 for refrigerator: train on house 1, predict on house 2')"
   ]
  },
  {
   "cell_type": "code",
   "execution_count": null,
   "metadata": {},
   "outputs": [],
   "source": [
    ""
   ]
  }
 ],
 "metadata": {
  "kernelspec": {
   "display_name": "Python 3",
   "language": "python",
   "name": "python3"
  },
  "language_info": {
   "codemirror_mode": {
    "name": "ipython",
    "version": 3.0
   },
   "file_extension": ".py",
   "mimetype": "text/x-python",
   "name": "python",
   "nbconvert_exporter": "python",
   "pygments_lexer": "ipython3",
   "version": "3.6.4"
  }
 },
 "nbformat": 4,
 "nbformat_minor": 0
}